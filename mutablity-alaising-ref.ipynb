{
 "cells": [
  {
   "cell_type": "markdown",
   "id": "07c7646e",
   "metadata": {},
   "source": [
    "# Mutability - \n",
    "### whether we can change the value of an existing object in its current Address"
   ]
  },
  {
   "cell_type": "code",
   "execution_count": 4,
   "id": "63685c77",
   "metadata": {},
   "outputs": [
    {
     "ename": "NameError",
     "evalue": "name 'a' is not defined",
     "output_type": "error",
     "traceback": [
      "\u001b[1;31m---------------------------------------------------------------------------\u001b[0m",
      "\u001b[1;31mNameError\u001b[0m                                 Traceback (most recent call last)",
      "Cell \u001b[1;32mIn[4], line 1\u001b[0m\n\u001b[1;32m----> 1\u001b[0m \u001b[43ma\u001b[49m\n",
      "\u001b[1;31mNameError\u001b[0m: name 'a' is not defined"
     ]
    }
   ],
   "source": [
    "a\n",
    "# python understand variables as name"
   ]
  },
  {
   "cell_type": "code",
   "execution_count": 5,
   "id": "e25e9cf4",
   "metadata": {},
   "outputs": [],
   "source": [
    "a=5"
   ]
  },
  {
   "cell_type": "code",
   "execution_count": 6,
   "id": "9bc540f0",
   "metadata": {},
   "outputs": [
    {
     "data": {
      "text/plain": [
       "5"
      ]
     },
     "execution_count": 6,
     "metadata": {},
     "output_type": "execute_result"
    }
   ],
   "source": [
    "a"
   ]
  },
  {
   "cell_type": "code",
   "execution_count": 7,
   "id": "5ef4a6b4",
   "metadata": {},
   "outputs": [
    {
     "data": {
      "text/plain": [
       "2968755175792"
      ]
     },
     "execution_count": 7,
     "metadata": {},
     "output_type": "execute_result"
    }
   ],
   "source": [
    "id(a)"
   ]
  },
  {
   "cell_type": "code",
   "execution_count": 9,
   "id": "0e13ee16",
   "metadata": {},
   "outputs": [],
   "source": [
    "b=a   # Aliasing --> it will point at the same address -(Call by reference)"
   ]
  },
  {
   "cell_type": "code",
   "execution_count": 10,
   "id": "57311ae2",
   "metadata": {},
   "outputs": [],
   "source": [
    "c=b"
   ]
  },
  {
   "cell_type": "code",
   "execution_count": 11,
   "id": "82040923",
   "metadata": {},
   "outputs": [
    {
     "data": {
      "text/plain": [
       "5"
      ]
     },
     "execution_count": 11,
     "metadata": {},
     "output_type": "execute_result"
    }
   ],
   "source": [
    "b"
   ]
  },
  {
   "cell_type": "code",
   "execution_count": 12,
   "id": "4cfa357a",
   "metadata": {},
   "outputs": [
    {
     "data": {
      "text/plain": [
       "5"
      ]
     },
     "execution_count": 12,
     "metadata": {},
     "output_type": "execute_result"
    }
   ],
   "source": [
    "c"
   ]
  },
  {
   "cell_type": "code",
   "execution_count": 13,
   "id": "a23d6d56",
   "metadata": {},
   "outputs": [
    {
     "data": {
      "text/plain": [
       "2968755175792"
      ]
     },
     "execution_count": 13,
     "metadata": {},
     "output_type": "execute_result"
    }
   ],
   "source": [
    "id(b)"
   ]
  },
  {
   "cell_type": "code",
   "execution_count": 14,
   "id": "bec927d0",
   "metadata": {},
   "outputs": [
    {
     "data": {
      "text/plain": [
       "2968755175792"
      ]
     },
     "execution_count": 14,
     "metadata": {},
     "output_type": "execute_result"
    }
   ],
   "source": [
    "id(c)"
   ]
  },
  {
   "cell_type": "code",
   "execution_count": 17,
   "id": "f1cea814",
   "metadata": {},
   "outputs": [],
   "source": [
    "del a"
   ]
  },
  {
   "cell_type": "code",
   "execution_count": 19,
   "id": "44c36be8",
   "metadata": {},
   "outputs": [
    {
     "data": {
      "text/plain": [
       "5"
      ]
     },
     "execution_count": 19,
     "metadata": {},
     "output_type": "execute_result"
    }
   ],
   "source": [
    "b"
   ]
  },
  {
   "cell_type": "code",
   "execution_count": 20,
   "id": "1cd16da1",
   "metadata": {},
   "outputs": [
    {
     "data": {
      "text/plain": [
       "5"
      ]
     },
     "execution_count": 20,
     "metadata": {},
     "output_type": "execute_result"
    }
   ],
   "source": [
    "c"
   ]
  },
  {
   "cell_type": "code",
   "execution_count": 21,
   "id": "6752b474",
   "metadata": {},
   "outputs": [
    {
     "data": {
      "text/plain": [
       "2968755175792"
      ]
     },
     "execution_count": 21,
     "metadata": {},
     "output_type": "execute_result"
    }
   ],
   "source": [
    "id(b)"
   ]
  },
  {
   "cell_type": "markdown",
   "id": "b6ac59d6",
   "metadata": {},
   "source": [
    "### get ref count\n",
    "\n",
    "No.of ref count --> no of refe + 1(get ref count pints it too)"
   ]
  },
  {
   "cell_type": "code",
   "execution_count": 23,
   "id": "42dd0df3",
   "metadata": {},
   "outputs": [
    {
     "data": {
      "text/plain": [
       "3024"
      ]
     },
     "execution_count": 23,
     "metadata": {},
     "output_type": "execute_result"
    }
   ],
   "source": [
    "import sys\n",
    "sys.getrefcount(b)"
   ]
  },
  {
   "cell_type": "markdown",
   "id": "a5fdc0f9",
   "metadata": {},
   "source": [
    "### Garbage Collector -> \n",
    "#function, if all the reference to an adress is delted it will free up the memory by deleteing the values "
   ]
  },
  {
   "cell_type": "code",
   "execution_count": 26,
   "id": "92801292",
   "metadata": {},
   "outputs": [
    {
     "data": {
      "text/plain": [
       "2"
      ]
     },
     "execution_count": 26,
     "metadata": {},
     "output_type": "execute_result"
    }
   ],
   "source": [
    "d=-7\n",
    "sys.getrefcount(d)"
   ]
  },
  {
   "cell_type": "markdown",
   "id": "ee0c706c",
   "metadata": {},
   "source": [
    "### wierd stuff\n",
    "\n",
    "between -5 to 256 --> the ref_count will give any random values , cuz python already fills these value in memory considering it to be used frequently"
   ]
  },
  {
   "cell_type": "markdown",
   "id": "f87a63a0",
   "metadata": {},
   "source": [
    "## Mutabilty"
   ]
  },
  {
   "cell_type": "code",
   "execution_count": 29,
   "id": "2f521a11",
   "metadata": {},
   "outputs": [],
   "source": [
    "# List, Dicitonary and sets are only mutable "
   ]
  },
  {
   "cell_type": "code",
   "execution_count": 30,
   "id": "63f05019",
   "metadata": {},
   "outputs": [],
   "source": [
    "l = [1,2,3]"
   ]
  },
  {
   "cell_type": "code",
   "execution_count": 31,
   "id": "6c722fbf",
   "metadata": {},
   "outputs": [
    {
     "data": {
      "text/plain": [
       "2968865761792"
      ]
     },
     "execution_count": 31,
     "metadata": {},
     "output_type": "execute_result"
    }
   ],
   "source": [
    "id(l)"
   ]
  },
  {
   "cell_type": "code",
   "execution_count": 32,
   "id": "111dba05",
   "metadata": {},
   "outputs": [
    {
     "data": {
      "text/plain": [
       "2968755175664"
      ]
     },
     "execution_count": 32,
     "metadata": {},
     "output_type": "execute_result"
    }
   ],
   "source": [
    "id(1)"
   ]
  },
  {
   "cell_type": "code",
   "execution_count": 33,
   "id": "04fcd864",
   "metadata": {},
   "outputs": [
    {
     "data": {
      "text/plain": [
       "2968755175664"
      ]
     },
     "execution_count": 33,
     "metadata": {},
     "output_type": "execute_result"
    }
   ],
   "source": [
    "id(l[0])"
   ]
  },
  {
   "cell_type": "code",
   "execution_count": 36,
   "id": "d5cc145e",
   "metadata": {},
   "outputs": [
    {
     "data": {
      "text/plain": [
       "2968755175728"
      ]
     },
     "execution_count": 36,
     "metadata": {},
     "output_type": "execute_result"
    }
   ],
   "source": [
    "id(l[2])"
   ]
  },
  {
   "cell_type": "code",
   "execution_count": 37,
   "id": "acb9b07a",
   "metadata": {},
   "outputs": [],
   "source": [
    "l[2]=1"
   ]
  },
  {
   "cell_type": "code",
   "execution_count": 38,
   "id": "445868d2",
   "metadata": {},
   "outputs": [
    {
     "data": {
      "text/plain": [
       "2968755175664"
      ]
     },
     "execution_count": 38,
     "metadata": {},
     "output_type": "execute_result"
    }
   ],
   "source": [
    "id(l[2])"
   ]
  },
  {
   "cell_type": "code",
   "execution_count": 39,
   "id": "73e6d3f1",
   "metadata": {},
   "outputs": [
    {
     "data": {
      "text/plain": [
       "2968865761792"
      ]
     },
     "execution_count": 39,
     "metadata": {},
     "output_type": "execute_result"
    }
   ],
   "source": [
    "id(l)"
   ]
  },
  {
   "cell_type": "code",
   "execution_count": 40,
   "id": "1535c724",
   "metadata": {},
   "outputs": [],
   "source": [
    "l =l + [4,5] # (concatenantion changes the adddress)"
   ]
  },
  {
   "cell_type": "code",
   "execution_count": 41,
   "id": "1a7e652a",
   "metadata": {},
   "outputs": [
    {
     "data": {
      "text/plain": [
       "2968865258432"
      ]
     },
     "execution_count": 41,
     "metadata": {},
     "output_type": "execute_result"
    }
   ],
   "source": [
    "id(l)"
   ]
  },
  {
   "cell_type": "code",
   "execution_count": 44,
   "id": "05686a33",
   "metadata": {},
   "outputs": [],
   "source": [
    "l.append(6) # function doesnt chnage the address"
   ]
  },
  {
   "cell_type": "code",
   "execution_count": 45,
   "id": "e45a89e9",
   "metadata": {},
   "outputs": [
    {
     "data": {
      "text/plain": [
       "2968865258432"
      ]
     },
     "execution_count": 45,
     "metadata": {},
     "output_type": "execute_result"
    }
   ],
   "source": [
    "id(l)"
   ]
  },
  {
   "cell_type": "code",
   "execution_count": null,
   "id": "80826c8a",
   "metadata": {},
   "outputs": [],
   "source": []
  }
 ],
 "metadata": {
  "kernelspec": {
   "display_name": "Python 3 (ipykernel)",
   "language": "python",
   "name": "python3"
  },
  "language_info": {
   "codemirror_mode": {
    "name": "ipython",
    "version": 3
   },
   "file_extension": ".py",
   "mimetype": "text/x-python",
   "name": "python",
   "nbconvert_exporter": "python",
   "pygments_lexer": "ipython3",
   "version": "3.10.9"
  }
 },
 "nbformat": 4,
 "nbformat_minor": 5
}
