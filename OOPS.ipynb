{
 "cells": [
  {
   "cell_type": "markdown",
   "id": "a037c59d",
   "metadata": {},
   "source": [
    "#### Datatypes --> class , someone must have made it --> define the blueprint(will have to write different function )"
   ]
  },
  {
   "cell_type": "code",
   "execution_count": 1,
   "id": "c043eb7b",
   "metadata": {},
   "outputs": [],
   "source": [
    "a=2"
   ]
  },
  {
   "cell_type": "code",
   "execution_count": 2,
   "id": "00d0b4c3",
   "metadata": {},
   "outputs": [
    {
     "data": {
      "text/plain": [
       "int"
      ]
     },
     "execution_count": 2,
     "metadata": {},
     "output_type": "execute_result"
    }
   ],
   "source": [
    "type(a)"
   ]
  },
  {
   "cell_type": "markdown",
   "id": "58fd9338",
   "metadata": {},
   "source": [
    "a is an object of int class"
   ]
  },
  {
   "cell_type": "code",
   "execution_count": 4,
   "id": "d789bc06",
   "metadata": {},
   "outputs": [
    {
     "data": {
      "text/plain": [
       "[]"
      ]
     },
     "execution_count": 4,
     "metadata": {},
     "output_type": "execute_result"
    }
   ],
   "source": [
    "l=list() # how we create objects from class\n",
    "l"
   ]
  },
  {
   "cell_type": "code",
   "execution_count": 5,
   "id": "44ad63a3",
   "metadata": {},
   "outputs": [
    {
     "data": {
      "text/plain": [
       "''"
      ]
     },
     "execution_count": 5,
     "metadata": {},
     "output_type": "execute_result"
    }
   ],
   "source": [
    "name = str()\n",
    "name"
   ]
  },
  {
   "cell_type": "markdown",
   "id": "7c399824",
   "metadata": {},
   "source": [
    "#object Literals --> for builtin function "
   ]
  },
  {
   "cell_type": "markdown",
   "id": "e0b5046c",
   "metadata": {},
   "source": [
    "#### Class --> Blueprint of an object, how an object will behave\n",
    "\n",
    "Class conists:\n",
    "    1. data/property\n",
    "    2. method/function/behaviour"
   ]
  },
  {
   "cell_type": "code",
   "execution_count": null,
   "id": "33f038c6",
   "metadata": {},
   "outputs": [],
   "source": [
    "class Car:\n",
    "    color = 'blue' # Data\n",
    "    model = \"sports\" #Data\n",
    "    \n",
    "    def calculate_avg_medicine(km,time):  # Function/method\n",
    "        #some code"
   ]
  },
  {
   "cell_type": "code",
   "execution_count": 3,
   "id": "2809f9c2",
   "metadata": {},
   "outputs": [],
   "source": [
    "# Object is an instance of a class"
   ]
  },
  {
   "cell_type": "markdown",
   "id": "d9381ae4",
   "metadata": {},
   "source": [
    "#### Functions vs Methods:\n",
    "    \n",
    "Methods are the special functions written inside the class"
   ]
  },
  {
   "cell_type": "code",
   "execution_count": 12,
   "id": "837410ba",
   "metadata": {},
   "outputs": [],
   "source": [
    "# Bank Application ##\n",
    "\n",
    "class Atm:\n",
    "    #Constructer -- is a special method, which run the inside block of code when an object of the class is created\n",
    "    #Special/Magic/Dunder methods\n",
    "    \n",
    "    #class/Static Variable --> variable which has same values for different objects\n",
    "    counter = 1\n",
    "    \n",
    "    def __init__(self):\n",
    "        # instance variable --> variable which has different value for different objects\n",
    "        self.__pin= ''\n",
    "        self.__balance = 0\n",
    "        self.sno = Atm.counter\n",
    "        Atm.countr =Atm.counter +1\n",
    "        \n",
    "        #print(id(self)) \n",
    "        \n",
    "        self.__menu()\n",
    "    # getter\n",
    "    def get_pin(self):\n",
    "        return self.__pin\n",
    "    \n",
    "    #setter\n",
    "    def set_pin(self,new_pin):\n",
    "        if type(new_pin) == str:\n",
    "            self.__pin = new_pin\n",
    "            print(\"Pin Chnaged\")\n",
    "        else:\n",
    "            print(\"Not allowed\")\n",
    "        \n",
    "        \n",
    "    def __menu(self):\n",
    "        user_input = input(\"\"\"\n",
    "              Hello, How would you like to proceed\n",
    "              1. Enter 1 to create pin\n",
    "              2. Enter 2 to deposit\n",
    "              3. Enter 3 to withdraw\n",
    "              4. Enter 4 to check balance\n",
    "              5. Enter 5 to exit\n",
    "        \"\"\")\n",
    "        \n",
    "        if user_input == '1':\n",
    "            self.create_pin()\n",
    "        elif user_input == '2':\n",
    "            self.deposit()\n",
    "        elif user_input == '3':\n",
    "            self.withdraw()\n",
    "        elif user_input == '4':\n",
    "            self.check_balance()\n",
    "        else:\n",
    "            print(\"Bye !!\")\n",
    "    \n",
    "    def create_pin(self):\n",
    "        self.__pin = input(\"Enter you pin : \")\n",
    "        print(\"Pin successfully created\")\n",
    "        self.__menu()\n",
    "    \n",
    "    def deposit(self):\n",
    "        temp = input(\"Enter your pin : \")\n",
    "        if temp == self.__pin:\n",
    "            amount = int(input(\"Enter the amount : \"))\n",
    "            self.__balance = self.__balance + amount\n",
    "            print(\"Deposit Successful\")\n",
    "        else:\n",
    "            print(\"Invalid Pin\")\n",
    "            \n",
    "        self.__menu()\n",
    "        \n",
    "    def withdraw(self):\n",
    "        temp = input(\"Enter your pin : \")\n",
    "        if temp == self.pin:\n",
    "            amount = int(input(\"Enter the amount to withdraw : \"))\n",
    "            if amount < self.__balance:\n",
    "                self.__balance = self.__balance - amount\n",
    "                print(\"Deposit Successful\")\n",
    "            else:\n",
    "                print(\"Your balance is low\") \n",
    "        else:\n",
    "            print(\"Invalid Pin\")\n",
    "            \n",
    "        self.__menu()\n",
    "        \n",
    "    def check_balance(self):\n",
    "        temp = input(\"Enter your pin : \")\n",
    "        if temp == self.__pin:\n",
    "            print(self.__balance)\n",
    "        else:\n",
    "            print(\"Invalid Pin\")\n",
    "        self.__menu()"
   ]
  },
  {
   "cell_type": "markdown",
   "id": "b3a18cb2",
   "metadata": {},
   "source": [
    "### Encapsulation:--> binding of data member and function together in a single unit.\n",
    "\n",
    "* It's a good practice to hide data member and function as well, if you dont expose to everyone\n",
    "* Encapsulation --> cuz 2 methods are encapsulated together\n",
    "\n",
    "Need -- to not to expose the data to everyone, so that no one can manipulate\n",
    "\n",
    "Private attruibute -- using double underscore \"__\"\n",
    "\n",
    "Getter and Setter methods -- we are providing these 2 moethod to check and modify the data by using our way, so our function doesnt crash.\n"
   ]
  },
  {
   "cell_type": "code",
   "execution_count": 8,
   "id": "a8c79617",
   "metadata": {},
   "outputs": [
    {
     "name": "stdout",
     "output_type": "stream",
     "text": [
      "\n",
      "              Hello, How would you like to proceed\n",
      "              1. Enter 1 to create pin\n",
      "              2. Enter 2 to deposit\n",
      "              3. Enter 3 to withdraw\n",
      "              4. Enter 4 to check balance\n",
      "              5. Enter 5 to exit\n",
      "        4\n",
      "Enter your pin : 1234\n",
      "Invalid Pin\n",
      "\n",
      "              Hello, How would you like to proceed\n",
      "              1. Enter 1 to create pin\n",
      "              2. Enter 2 to deposit\n",
      "              3. Enter 3 to withdraw\n",
      "              4. Enter 4 to check balance\n",
      "              5. Enter 5 to exit\n",
      "        \n",
      "Bye !!\n"
     ]
    }
   ],
   "source": [
    "sbi=Atm()"
   ]
  },
  {
   "cell_type": "code",
   "execution_count": 13,
   "id": "e8f157c8",
   "metadata": {},
   "outputs": [
    {
     "data": {
      "text/plain": [
       "'1234'"
      ]
     },
     "execution_count": 13,
     "metadata": {},
     "output_type": "execute_result"
    }
   ],
   "source": [
    "sbi.get_pin()"
   ]
  },
  {
   "cell_type": "code",
   "execution_count": 16,
   "id": "cede7387",
   "metadata": {},
   "outputs": [],
   "source": [
    "sbi.set_pin('2234')"
   ]
  },
  {
   "cell_type": "code",
   "execution_count": 45,
   "id": "fe233f85",
   "metadata": {},
   "outputs": [
    {
     "name": "stdout",
     "output_type": "stream",
     "text": [
      "\n",
      "              Hello, How would you like to proceed\n",
      "              1. Enter 1 to create pin\n",
      "              2. Enter 2 to deposit\n",
      "              3. Enter 3 to withdraw\n",
      "              4. Enter 4 to check balance\n",
      "              5. Enter 5 to exit\n",
      "        1\n",
      "Enter you pin : 1234\n",
      "Pin successfully created\n"
     ]
    }
   ],
   "source": [
    "x = Atm()"
   ]
  },
  {
   "cell_type": "code",
   "execution_count": 47,
   "id": "6cec9225",
   "metadata": {},
   "outputs": [
    {
     "name": "stdout",
     "output_type": "stream",
     "text": [
      "Enter your pin : 1234\n",
      "Enter the amount : 50000\n",
      "Deposit Successful\n"
     ]
    }
   ],
   "source": [
    "x.deposit()"
   ]
  },
  {
   "cell_type": "code",
   "execution_count": 49,
   "id": "db0f72e2",
   "metadata": {},
   "outputs": [
    {
     "name": "stdout",
     "output_type": "stream",
     "text": [
      "Enter your pin : 1234\n",
      "Enter the amount to withdraw : 12000\n",
      "Deposit Successful\n"
     ]
    }
   ],
   "source": [
    "x.withdraw()"
   ]
  },
  {
   "cell_type": "code",
   "execution_count": 50,
   "id": "e78fe7d1",
   "metadata": {},
   "outputs": [
    {
     "name": "stdout",
     "output_type": "stream",
     "text": [
      "Enter your pin : 1234\n",
      "38000\n"
     ]
    }
   ],
   "source": [
    "x.check_balance()"
   ]
  },
  {
   "cell_type": "code",
   "execution_count": null,
   "id": "7e4252e7",
   "metadata": {},
   "outputs": [
    {
     "name": "stdout",
     "output_type": "stream",
     "text": [
      "2292098535136\n"
     ]
    }
   ],
   "source": [
    "sbi= Atm()"
   ]
  },
  {
   "cell_type": "code",
   "execution_count": null,
   "id": "f855e367",
   "metadata": {},
   "outputs": [],
   "source": [
    "id(sbi)"
   ]
  },
  {
   "cell_type": "code",
   "execution_count": null,
   "id": "7d8ef863",
   "metadata": {},
   "outputs": [],
   "source": [
    "# --> sbi hi self hai (object hi self hai)"
   ]
  },
  {
   "cell_type": "markdown",
   "id": "4ef8c86e",
   "metadata": {},
   "source": [
    "#### Self - a function  cant call another function inside a Class without the object(i.e. self) --> we use self \n",
    "\n",
    "*** Only an object can call the functions inside a class ***"
   ]
  },
  {
   "cell_type": "markdown",
   "id": "0725aa86",
   "metadata": {},
   "source": [
    "# Creating a datatype - Fraction "
   ]
  },
  {
   "cell_type": "code",
   "execution_count": 49,
   "id": "480b6619",
   "metadata": {},
   "outputs": [],
   "source": [
    "class Fraction:\n",
    "    \n",
    "    def __init__(self,n,d):\n",
    "        self.n = n\n",
    "        self.d = d\n",
    "        \n",
    "    def __str__(self):                    ### __str__ --> function will run whnever we run the object inside print()\n",
    "        return \"{}/{}\".format(self.n,self.d)\n",
    "    \n",
    "    def __add__(self,other):      ## magic method to add two objects with \" + \" sign\n",
    "        n_temp = self.n * other.d + other.n * self.d\n",
    "        d_temp = self.d*other.d\n",
    "        \n",
    "        return \"{}/{}\".format(n_temp,d_temp)\n",
    "    \n",
    "    def __sub__(self,other):      ## magic method to subtract two objects with \" - \" sign\n",
    "        n_temp = self.n * other.d - other.n * self.d\n",
    "        d_temp = self.d*other.d\n",
    "        \n",
    "        return \"{}/{}\".format(n_temp,d_temp)\n",
    "    \n",
    "    def __mul__(self,other):      ## magic method to mul two objects with \" * \" sign\n",
    "        n_temp = self.n * other.n\n",
    "        d_temp = self.d*other.d\n",
    "        \n",
    "        return \"{}/{}\".format(n_temp,d_temp)\n",
    "    \n",
    "    def __truediv__(self,other):      ## magic method to div two objects with \" / \" sign\n",
    "        n_temp = self.n * other.d\n",
    "        d_temp = self.d*other.n\n",
    "        \n",
    "        return \"{}/{}\".format(n_temp,d_temp)"
   ]
  },
  {
   "cell_type": "code",
   "execution_count": 2,
   "id": "e4382a2b",
   "metadata": {},
   "outputs": [],
   "source": [
    "x= Fraction(4,5)"
   ]
  },
  {
   "cell_type": "code",
   "execution_count": 3,
   "id": "fcde506a",
   "metadata": {},
   "outputs": [
    {
     "data": {
      "text/plain": [
       "__main__.Fraction"
      ]
     },
     "execution_count": 3,
     "metadata": {},
     "output_type": "execute_result"
    }
   ],
   "source": [
    "type(x)"
   ]
  },
  {
   "cell_type": "code",
   "execution_count": 4,
   "id": "0d0a78a6",
   "metadata": {},
   "outputs": [
    {
     "name": "stdout",
     "output_type": "stream",
     "text": [
      "<__main__.Fraction object at 0x000002631175F370>\n"
     ]
    }
   ],
   "source": [
    "print(x) # we didnt tell , how does it look"
   ]
  },
  {
   "cell_type": "code",
   "execution_count": 6,
   "id": "b9db53dd",
   "metadata": {},
   "outputs": [
    {
     "name": "stdout",
     "output_type": "stream",
     "text": [
      "<__main__.Fraction object at 0x000002631175F370>\n"
     ]
    }
   ],
   "source": [
    "l= [1,2,3,x]\n",
    "print(x) "
   ]
  },
  {
   "cell_type": "code",
   "execution_count": 17,
   "id": "db890093",
   "metadata": {},
   "outputs": [
    {
     "name": "stdout",
     "output_type": "stream",
     "text": [
      "5/6\n"
     ]
    }
   ],
   "source": [
    "y = Fraction(5,6)\n",
    "print(y)"
   ]
  },
  {
   "cell_type": "code",
   "execution_count": 21,
   "id": "ae927580",
   "metadata": {},
   "outputs": [
    {
     "name": "stdout",
     "output_type": "stream",
     "text": [
      "[1, 2, 3, <__main__.Fraction object at 0x0000026312DD6D70>]\n"
     ]
    }
   ],
   "source": [
    "x= Fraction(4,5)\n",
    "l= [1,2,3,x]\n",
    "print(l) "
   ]
  },
  {
   "cell_type": "code",
   "execution_count": 22,
   "id": "bbe53767",
   "metadata": {},
   "outputs": [
    {
     "data": {
      "text/plain": [
       "<__main__.Fraction at 0x26312dd6d70>"
      ]
     },
     "execution_count": 22,
     "metadata": {},
     "output_type": "execute_result"
    }
   ],
   "source": [
    "x"
   ]
  },
  {
   "cell_type": "code",
   "execution_count": 57,
   "id": "6b9cdfcc",
   "metadata": {},
   "outputs": [
    {
     "name": "stdout",
     "output_type": "stream",
     "text": [
      "4/5\n",
      "5/6\n"
     ]
    }
   ],
   "source": [
    "x= Fraction(4,5)\n",
    "y = Fraction(5,6)\n",
    "print(x)\n",
    "print(y)"
   ]
  },
  {
   "cell_type": "code",
   "execution_count": 58,
   "id": "5958db99",
   "metadata": {},
   "outputs": [
    {
     "name": "stdout",
     "output_type": "stream",
     "text": [
      "49/30\n"
     ]
    }
   ],
   "source": [
    "#  here it doesnt support addition , as we havent defind to add --> we can use magic methid to add functionality\n",
    "print(x+y) "
   ]
  },
  {
   "cell_type": "code",
   "execution_count": 37,
   "id": "8492339b",
   "metadata": {},
   "outputs": [
    {
     "ename": "TypeError",
     "evalue": "unsupported operand type(s) for +: 'set' and 'set'",
     "output_type": "error",
     "traceback": [
      "\u001b[1;31m---------------------------------------------------------------------------\u001b[0m",
      "\u001b[1;31mTypeError\u001b[0m                                 Traceback (most recent call last)",
      "Cell \u001b[1;32mIn[37], line 3\u001b[0m\n\u001b[0;32m      1\u001b[0m s1 \u001b[38;5;241m=\u001b[39m {\u001b[38;5;241m1\u001b[39m,\u001b[38;5;241m2\u001b[39m,\u001b[38;5;241m3\u001b[39m}\n\u001b[0;32m      2\u001b[0m s2 \u001b[38;5;241m=\u001b[39m{\u001b[38;5;241m3\u001b[39m,\u001b[38;5;241m4\u001b[39m,\u001b[38;5;241m4\u001b[39m}\n\u001b[1;32m----> 3\u001b[0m \u001b[38;5;28mprint\u001b[39m(\u001b[43ms1\u001b[49m\u001b[38;5;241;43m+\u001b[39;49m\u001b[43ms2\u001b[49m)\n",
      "\u001b[1;31mTypeError\u001b[0m: unsupported operand type(s) for +: 'set' and 'set'"
     ]
    }
   ],
   "source": [
    "s1 = {1,2,3}\n",
    "s2 ={3,4,4}\n",
    "print(s1+s2)"
   ]
  },
  {
   "cell_type": "code",
   "execution_count": 59,
   "id": "9605b698",
   "metadata": {},
   "outputs": [
    {
     "name": "stdout",
     "output_type": "stream",
     "text": [
      "-1/30\n"
     ]
    }
   ],
   "source": [
    "print(x-y)"
   ]
  },
  {
   "cell_type": "code",
   "execution_count": 60,
   "id": "9ea5b072",
   "metadata": {},
   "outputs": [
    {
     "name": "stdout",
     "output_type": "stream",
     "text": [
      "20/30\n"
     ]
    }
   ],
   "source": [
    "print(x*y)"
   ]
  },
  {
   "cell_type": "code",
   "execution_count": 63,
   "id": "469954e6",
   "metadata": {},
   "outputs": [
    {
     "name": "stdout",
     "output_type": "stream",
     "text": [
      "24/25\n"
     ]
    }
   ],
   "source": [
    "print(x/y)"
   ]
  },
  {
   "cell_type": "code",
   "execution_count": 55,
   "id": "160eb5d1",
   "metadata": {},
   "outputs": [],
   "source": [
    "x=Fraction(4,5)"
   ]
  },
  {
   "cell_type": "code",
   "execution_count": 56,
   "id": "9a934ed9",
   "metadata": {},
   "outputs": [
    {
     "data": {
      "text/plain": [
       "__main__.Fraction"
      ]
     },
     "execution_count": 56,
     "metadata": {},
     "output_type": "execute_result"
    }
   ],
   "source": [
    "type(x)"
   ]
  },
  {
   "cell_type": "markdown",
   "id": "b91249ff",
   "metadata": {},
   "source": [
    "### Reference Variable"
   ]
  },
  {
   "cell_type": "code",
   "execution_count": 17,
   "id": "4d79369a",
   "metadata": {},
   "outputs": [
    {
     "name": "stdout",
     "output_type": "stream",
     "text": [
      "\n",
      "              Hello, How would you like to proceed\n",
      "              1. Enter 1 to create pin\n",
      "              2. Enter 2 to deposit\n",
      "              3. Enter 3 to withdraw\n",
      "              4. Enter 4 to check balance\n",
      "              5. Enter 5 to exit\n",
      "        1\n",
      "Enter you pin : 1234\n",
      "Pin successfully created\n",
      "\n",
      "              Hello, How would you like to proceed\n",
      "              1. Enter 1 to create pin\n",
      "              2. Enter 2 to deposit\n",
      "              3. Enter 3 to withdraw\n",
      "              4. Enter 4 to check balance\n",
      "              5. Enter 5 to exit\n",
      "        5\n",
      "Bye !!\n"
     ]
    },
    {
     "data": {
      "text/plain": [
       "<__main__.Atm at 0x21184f1b010>"
      ]
     },
     "execution_count": 17,
     "metadata": {},
     "output_type": "execute_result"
    }
   ],
   "source": [
    "Atm()"
   ]
  },
  {
   "cell_type": "markdown",
   "id": "9a610d6e",
   "metadata": {},
   "source": [
    "#### the above object is loacted at <__main__.Atm at 0x21184f1b010> but it has no refernce "
   ]
  },
  {
   "cell_type": "code",
   "execution_count": 18,
   "id": "8edbab57",
   "metadata": {},
   "outputs": [
    {
     "name": "stdout",
     "output_type": "stream",
     "text": [
      "\n",
      "              Hello, How would you like to proceed\n",
      "              1. Enter 1 to create pin\n",
      "              2. Enter 2 to deposit\n",
      "              3. Enter 3 to withdraw\n",
      "              4. Enter 4 to check balance\n",
      "              5. Enter 5 to exit\n",
      "        1\n",
      "Enter you pin : 5\n",
      "Pin successfully created\n",
      "\n",
      "              Hello, How would you like to proceed\n",
      "              1. Enter 1 to create pin\n",
      "              2. Enter 2 to deposit\n",
      "              3. Enter 3 to withdraw\n",
      "              4. Enter 4 to check balance\n",
      "              5. Enter 5 to exit\n",
      "        5\n",
      "Bye !!\n"
     ]
    }
   ],
   "source": [
    "sbi = Atm()\n",
    "\n",
    "# this sbi is a variable referncing to Atm object --> Refernce Varibale"
   ]
  },
  {
   "cell_type": "code",
   "execution_count": 32,
   "id": "11828273",
   "metadata": {},
   "outputs": [
    {
     "name": "stdout",
     "output_type": "stream",
     "text": [
      "Hello Dhananjay  Sir !!\n",
      "Priyanshi\n"
     ]
    }
   ],
   "source": [
    "class Customer:\n",
    "\n",
    "    def __init__(self,name,gender):\n",
    "        self.name = name\n",
    "        self.gender = gender\n",
    "\n",
    "def greet(customer):                             # we can also pass object class as argument\n",
    "    if customer.gender == \"Male\":\n",
    "        print(\"Hello\",customer.name,' Sir !!')\n",
    "    else:\n",
    "        print(\"Hello\",customer.name,\" Ma'am!!\")\n",
    "        \n",
    "    cust2 = Customer(\"Priyanshi\",\"Female\")      \n",
    "    return cust2                                 # we can also return object \n",
    "    \n",
    "cust = Customer(\"Dhananjay\",\"Male\") \n",
    "\n",
    "new_cust = greet(cust)\n",
    "print(new_cust.name)"
   ]
  },
  {
   "cell_type": "code",
   "execution_count": 2,
   "id": "d097b8ce",
   "metadata": {},
   "outputs": [
    {
     "name": "stdout",
     "output_type": "stream",
     "text": [
      "2149215036768\n",
      "2149215036768\n",
      "priyanshi\n",
      "2149215036768\n",
      "priyanshi\n"
     ]
    }
   ],
   "source": [
    "class Customer:\n",
    "    def __init__(self,name):\n",
    "        self.name = name\n",
    "\n",
    "def greet(customer):\n",
    "    print(id(customer))\n",
    "    customer.name = \"priyanshi\"\n",
    "    print(customer.name)\n",
    "    print(id(customer))\n",
    "    \n",
    "\n",
    "\n",
    "cust = Customer(\"Dhananjay\")\n",
    "print(id(cust))\n",
    "# print(cust.name)\n",
    "\n",
    "greet(cust)\n",
    "print(cust.name)\n",
    "\n",
    "# Class ke objects are mutable like dictionary, sets and list"
   ]
  },
  {
   "cell_type": "code",
   "execution_count": 3,
   "id": "00ab3ccd",
   "metadata": {},
   "outputs": [],
   "source": [
    "#if we pass mutable data type by pass by Refernce--> changes will happen at original address"
   ]
  },
  {
   "cell_type": "markdown",
   "id": "4dd204a8",
   "metadata": {},
   "source": [
    "#### collection of objects -- Inside List, Dictionary and tuples , we can put our object and use it in loop"
   ]
  },
  {
   "cell_type": "code",
   "execution_count": 14,
   "id": "da4b0fcf",
   "metadata": {},
   "outputs": [
    {
     "name": "stdout",
     "output_type": "stream",
     "text": [
      "Hi,I'm dhananjay  and I'm 28\n",
      "Hi,I'm priyanshi  and I'm 21\n",
      "Hi,I'm maneesh  and I'm 29\n"
     ]
    }
   ],
   "source": [
    "class Customer:\n",
    "    \n",
    "    def __init__(self,name,age):\n",
    "        self.name =name\n",
    "        self.age = age\n",
    "    def intro(self):\n",
    "        print(\"Hi,I'm\",self.name,\" and I'm\",self.age)\n",
    "    \n",
    "c1= Customer(\"dhananjay\",28)\n",
    "c2= Customer(\"priyanshi\",21)\n",
    "c3= Customer(\"maneesh\",29)\n",
    "\n",
    "l= [c1,c2,c3]\n",
    "\n",
    "# for i in l:\n",
    "#     print(i.name, i.age)\n",
    "\n",
    "for i in l:\n",
    "    i.intro()"
   ]
  },
  {
   "cell_type": "markdown",
   "id": "30b67626",
   "metadata": {},
   "source": [
    "### Static  - variable which has same values for different objects\n",
    "\n",
    "\n"
   ]
  },
  {
   "cell_type": "markdown",
   "id": "9a1ae4e2",
   "metadata": {},
   "source": [
    "Static method -- special kind of method, which doesnt require self to call the function\n",
    "* Generally when we deal with static varibale"
   ]
  },
  {
   "cell_type": "code",
   "execution_count": 100,
   "id": "e89c3846",
   "metadata": {},
   "outputs": [],
   "source": [
    "# Bank Application ##\n",
    "\n",
    "class Atm:\n",
    "    #Constructer -- is a special method, which run the inside block of code when an object of the class is created\n",
    "    #Special/Magic/Dunder methods\n",
    "    \n",
    "    #class/Static Variable --> variable which has same values for different objects\n",
    "    __counter = 1\n",
    "    \n",
    "    def __init__(self):\n",
    "        # instance variable --> variable which has different value for different objects\n",
    "        self.__pin= ''\n",
    "        self.__balance = 0\n",
    "        \n",
    "        self.sno = Atm.__counter\n",
    "        Atm.__counter = Atm.__counter + 1\n",
    "        \n",
    "        #print(id(self)) \n",
    "#         self.__menu()\n",
    "\n",
    "    @staticmethod  # *** when dealing with static variable, No use of self to pass since we are not using self in the block\n",
    "    def get_counter():\n",
    "        return Atm.__counter\n",
    "    \n",
    "    @staticmethod\n",
    "    def set_counter(new):\n",
    "        if type(new) == int :\n",
    "            Atm.__counter = new\n",
    "        else:\n",
    "            print('not allowed')\n",
    "\n",
    "    # getter\n",
    "    def get_pin(self):\n",
    "        return self.__pin\n",
    "    \n",
    "    #setter\n",
    "    def set_pin(self,new_pin):\n",
    "        if type(new_pin) == str:\n",
    "            self.__pin = new_pin\n",
    "            print(\"Pin Chnaged\")\n",
    "        else:\n",
    "            print(\"Not allowed\")\n",
    "        \n",
    "        \n",
    "    def __menu(self):\n",
    "        user_input = input(\"\"\"\n",
    "              Hello, How would you like to proceed\n",
    "              1. Enter 1 to create pin\n",
    "              2. Enter 2 to deposit\n",
    "              3. Enter 3 to withdraw\n",
    "              4. Enter 4 to check balance\n",
    "              5. Enter 5 to exit\n",
    "        \"\"\")\n",
    "        \n",
    "        if user_input == '1':\n",
    "            self.create_pin()\n",
    "        elif user_input == '2':\n",
    "            self.deposit()\n",
    "        elif user_input == '3':\n",
    "            self.withdraw()\n",
    "        elif user_input == '4':\n",
    "            self.check_balance()\n",
    "        else:\n",
    "            print(\"Bye !!\")\n",
    "    \n",
    "    def create_pin(self):\n",
    "        self.__pin = input(\"Enter you pin : \")\n",
    "        print(\"Pin successfully created\")\n",
    "        self.__menu()\n",
    "    \n",
    "    def deposit(self):\n",
    "        temp = input(\"Enter your pin : \")\n",
    "        if temp == self.__pin:\n",
    "            amount = int(input(\"Enter the amount : \"))\n",
    "            self.__balance = self.__balance + amount\n",
    "            print(\"Deposit Successful\")\n",
    "        else:\n",
    "            print(\"Invalid Pin\")\n",
    "            \n",
    "        self.__menu()\n",
    "        \n",
    "    def withdraw(self):\n",
    "        temp = input(\"Enter your pin : \")\n",
    "        if temp == self.pin:\n",
    "            amount = int(input(\"Enter the amount to withdraw : \"))\n",
    "            if amount < self.__balance:\n",
    "                self.__balance = self.__balance - amount\n",
    "                print(\"Deposit Successful\")\n",
    "            else:\n",
    "                print(\"Your balance is low\") \n",
    "        else:\n",
    "            print(\"Invalid Pin\")\n",
    "            \n",
    "        self.__menu()\n",
    "        \n",
    "    def check_balance(self):\n",
    "        temp = input(\"Enter your pin : \")\n",
    "        if temp == self.__pin:\n",
    "            print(self.__balance)\n",
    "        else:\n",
    "            print(\"Invalid Pin\")\n",
    "        self.__menu()"
   ]
  },
  {
   "cell_type": "code",
   "execution_count": 96,
   "id": "2b301c81",
   "metadata": {},
   "outputs": [
    {
     "data": {
      "text/plain": [
       "1"
      ]
     },
     "execution_count": 96,
     "metadata": {},
     "output_type": "execute_result"
    }
   ],
   "source": [
    "c1= Atm()\n",
    "c1.sno"
   ]
  },
  {
   "cell_type": "code",
   "execution_count": 97,
   "id": "745a9f40",
   "metadata": {},
   "outputs": [
    {
     "data": {
      "text/plain": [
       "2"
      ]
     },
     "execution_count": 97,
     "metadata": {},
     "output_type": "execute_result"
    }
   ],
   "source": [
    "c2= Atm()\n",
    "c2.sno"
   ]
  },
  {
   "cell_type": "code",
   "execution_count": 98,
   "id": "e3c63980",
   "metadata": {},
   "outputs": [
    {
     "data": {
      "text/plain": [
       "4"
      ]
     },
     "execution_count": 98,
     "metadata": {},
     "output_type": "execute_result"
    }
   ],
   "source": [
    "c3=Atm()\n",
    "c3._Atm__counter"
   ]
  },
  {
   "cell_type": "code",
   "execution_count": 99,
   "id": "fd826938",
   "metadata": {},
   "outputs": [
    {
     "data": {
      "text/plain": [
       "4"
      ]
     },
     "execution_count": 99,
     "metadata": {},
     "output_type": "execute_result"
    }
   ],
   "source": [
    "Atm.get_counter()"
   ]
  },
  {
   "cell_type": "code",
   "execution_count": 89,
   "id": "77ff24ff",
   "metadata": {},
   "outputs": [],
   "source": [
    "Atm.set_counter(1)"
   ]
  },
  {
   "cell_type": "markdown",
   "id": "8ad77e38",
   "metadata": {},
   "source": [
    "### Class Relationship\n",
    "\n",
    "* 1. Aggregation (has-a)\n",
    "\n",
    "ex - customer class -- (has-a) --> Address class\n",
    "\n",
    "* 2. Inheritance (is -a)\n",
    "\n",
    "ex - smartphone class --(is-a) rel'n----> product class  , car class --(is-a)--> vehicle class\n"
   ]
  },
  {
   "cell_type": "code",
   "execution_count": 127,
   "id": "83047781",
   "metadata": {},
   "outputs": [],
   "source": [
    "# Aggregation Relationship\n",
    "\n",
    "# customer class is not working itself, it is making work Address class to change address/add new adress \n",
    "# address se realted koi bhi kaam jrna ho , it will call address class to do\n",
    "\n",
    "class Customer:\n",
    "    \n",
    "    def __init__(self,name,gender,address):\n",
    "        self.name= name\n",
    "        self.gender =gender\n",
    "        self.address = address\n",
    "    def edit_profile(self,name,new_city,new_pin,new_state):\n",
    "        self.name = name\n",
    "        self.address.change_address(new_city,new_pin,new_state)\n",
    "        \n",
    "class Address:\n",
    "    \n",
    "    def __init__(self,city,pincode,state):\n",
    "        self.city = city\n",
    "        self.pincode = pincode\n",
    "        self.state = state\n",
    "    def change_address(self,new_city,new_pin,new_state):\n",
    "        self.city = new_city\n",
    "        self.pincode = new_pin\n",
    "        self.state = new_state\n"
   ]
  },
  {
   "cell_type": "code",
   "execution_count": 128,
   "id": "9a63fd5c",
   "metadata": {},
   "outputs": [
    {
     "name": "stdout",
     "output_type": "stream",
     "text": [
      "122011\n",
      "Gurugram\n",
      "Dhananjay\n"
     ]
    }
   ],
   "source": [
    "add = Address('bangalore',560103,'karnataka')\n",
    "cust = Customer('Dhananjay','Male',add)\n",
    "cust.edit_profile('Dhananjay','Gurugram',122011,'haryana')\n",
    "\n",
    "# print(cust)\n",
    "print(cust.address.pincode)\n",
    "print(cust.address.city)\n",
    "print(cust.name)"
   ]
  },
  {
   "cell_type": "markdown",
   "id": "b3c8b9b2",
   "metadata": {},
   "source": [
    "#### Inheritance - it allows a class (child or derived class) to inherit properties and behaviors (attributes and methods) from another class (parent or base class).\n",
    "\n",
    "#suppose we hv to make an website like udemy\n",
    "\n",
    "user \n",
    "i) students -- 1. login 2. reg 3. enroll 4. review \n",
    "ii) Instructors -- 1. login 2. reg 3. create 4. answer\n",
    "\n",
    "so here we are seeing ... both the student and instructor has to 1. login 2. reg\n",
    "* we can create user as parent  class with 1. login 2. reg, so that stuent and instructur class can inherit these 2 functionality\n",
    "\n",
    "**** main use of inheritance is code reusabilty  ****"
   ]
  },
  {
   "cell_type": "markdown",
   "id": "ed4d16e8",
   "metadata": {},
   "source": [
    "##### when a child class inherits parent class , it inherits\n",
    "* data members\n",
    "* member fucntions - methods\n",
    "* constructer\n",
    "\n",
    "**** it doesnt inherit private member   (with __ ) ****"
   ]
  },
  {
   "cell_type": "code",
   "execution_count": 130,
   "id": "5286a149",
   "metadata": {},
   "outputs": [
    {
     "name": "stdout",
     "output_type": "stream",
     "text": [
      "enroll\n",
      "review\n",
      "login\n",
      "register\n"
     ]
    }
   ],
   "source": [
    "class User:\n",
    "    \n",
    "    def login(self):\n",
    "        print('login')\n",
    "        \n",
    "    def register(self):\n",
    "        print('register')\n",
    "\n",
    "class Student(User):\n",
    "    \n",
    "    def enroll(self):\n",
    "        print('enroll')\n",
    "        \n",
    "    def review(self):\n",
    "        print('review')\n",
    "        \n",
    "stu = Student()\n",
    "\n",
    "stu.enroll()\n",
    "stu.review()\n",
    "stu.login()\n",
    "stu.register()"
   ]
  },
  {
   "cell_type": "code",
   "execution_count": 132,
   "id": "78cc70ef",
   "metadata": {},
   "outputs": [
    {
     "ename": "AttributeError",
     "evalue": "'User' object has no attribute 'review'",
     "output_type": "error",
     "traceback": [
      "\u001b[1;31m---------------------------------------------------------------------------\u001b[0m",
      "\u001b[1;31mAttributeError\u001b[0m                            Traceback (most recent call last)",
      "Cell \u001b[1;32mIn[132], line 2\u001b[0m\n\u001b[0;32m      1\u001b[0m u\u001b[38;5;241m=\u001b[39m User()\n\u001b[1;32m----> 2\u001b[0m \u001b[43mu\u001b[49m\u001b[38;5;241;43m.\u001b[39;49m\u001b[43mreview\u001b[49m()\n",
      "\u001b[1;31mAttributeError\u001b[0m: 'User' object has no attribute 'review'"
     ]
    }
   ],
   "source": [
    "u= User()\n",
    "u.review()"
   ]
  },
  {
   "cell_type": "markdown",
   "id": "1f10d4ae",
   "metadata": {},
   "source": [
    "examplesss"
   ]
  },
  {
   "cell_type": "code",
   "execution_count": 135,
   "id": "01f04d1c",
   "metadata": {},
   "outputs": [
    {
     "name": "stdout",
     "output_type": "stream",
     "text": [
      "Inside phone constructor\n",
      "Buying a phone\n",
      "Returning a phone\n"
     ]
    }
   ],
   "source": [
    "################ Inheriting Constructor ################\n",
    "\n",
    "class Phone:\n",
    "    def __init__(self, price, brand, camera):\n",
    "        print(\"Inside phone constructor\")\n",
    "        self.price = price\n",
    "        self.brand = brand\n",
    "        self.camera = camera\n",
    "\n",
    "    def buy(self):\n",
    "        print(\"Buying a phone\")\n",
    "\n",
    "    def return_phone(self):\n",
    "        print(\"Returning a phone\")\n",
    "\n",
    "\n",
    "class FeaturePhone(Phone):\n",
    "    pass\n",
    "\n",
    "class SmartPhone(Phone):\n",
    "    pass\n",
    "\n",
    "s = SmartPhone(20000, \"Apple\", 13)\n",
    "s.price\n",
    "s.buy()\n",
    "s.return_phone()\n",
    "\n"
   ]
  },
  {
   "cell_type": "code",
   "execution_count": 141,
   "id": "be9a3b4d",
   "metadata": {},
   "outputs": [
    {
     "name": "stdout",
     "output_type": "stream",
     "text": [
      "Inside phone constructor\n"
     ]
    },
    {
     "ename": "AttributeError",
     "evalue": "'SmartPhone' object has no attribute 'price'",
     "output_type": "error",
     "traceback": [
      "\u001b[1;31m---------------------------------------------------------------------------\u001b[0m",
      "\u001b[1;31mAttributeError\u001b[0m                            Traceback (most recent call last)",
      "Cell \u001b[1;32mIn[141], line 17\u001b[0m\n\u001b[0;32m     15\u001b[0m s \u001b[38;5;241m=\u001b[39m SmartPhone(\u001b[38;5;241m20000\u001b[39m, \u001b[38;5;124m\"\u001b[39m\u001b[38;5;124mApple\u001b[39m\u001b[38;5;124m\"\u001b[39m, \u001b[38;5;241m13\u001b[39m)\n\u001b[0;32m     16\u001b[0m \u001b[38;5;66;03m#s.check()\u001b[39;00m\n\u001b[1;32m---> 17\u001b[0m \u001b[43ms\u001b[49m\u001b[38;5;241;43m.\u001b[39;49m\u001b[43mprice\u001b[49m\n",
      "\u001b[1;31mAttributeError\u001b[0m: 'SmartPhone' object has no attribute 'price'"
     ]
    }
   ],
   "source": [
    "#################### Eg2 - Inheriting Private members ####################\n",
    "\n",
    "class Phone:\n",
    "    def __init__(self, price, brand, camera):\n",
    "        print(\"Inside phone constructor\")\n",
    "        self.__price = price\n",
    "        self.brand = brand\n",
    "        self.camera = camera\n",
    "\n",
    "class SmartPhone(Phone):\n",
    "    def check(self):\n",
    "        print(self.__price)\n",
    "\n",
    "\n",
    "s = SmartPhone(20000, \"Apple\", 13)\n",
    "#s.check()\n",
    "s.price   #--> cant inherit private data members"
   ]
  },
  {
   "cell_type": "markdown",
   "id": "e0d4211b",
   "metadata": {},
   "source": [
    "######## Polymorphism ########\n",
    "\n",
    "* Method overriding\n",
    "* Method Overloading\n",
    "* Operrator Overloading"
   ]
  },
  {
   "cell_type": "code",
   "execution_count": 142,
   "id": "b522864a",
   "metadata": {},
   "outputs": [
    {
     "name": "stdout",
     "output_type": "stream",
     "text": [
      "Inside phone constructor\n",
      "Buying a smartphone\n"
     ]
    }
   ],
   "source": [
    "\n",
    "class Phone:\n",
    "    def __init__(self, price, brand, camera):\n",
    "        print(\"Inside phone constructor\")\n",
    "        self.__price = price\n",
    "        self.brand = brand\n",
    "        self.camera = camera\n",
    "\n",
    "    def buy(self):\n",
    "        print(\"Buying a phone\")\n",
    "\n",
    "\n",
    "class SmartPhone(Phone):\n",
    "    def buy(self):\n",
    "        print(\"Buying a smartphone\")\n",
    "\n",
    "\n",
    "s = SmartPhone(20000, \"Apple\", 13)\n",
    "s.buy()\n"
   ]
  },
  {
   "cell_type": "markdown",
   "id": "a30a961a",
   "metadata": {},
   "source": [
    "****Method override --> when parent and child class have sam function but the child object class it own funxtion"
   ]
  },
  {
   "cell_type": "code",
   "execution_count": 144,
   "id": "424417e4",
   "metadata": {},
   "outputs": [],
   "source": [
    "#random problems"
   ]
  },
  {
   "cell_type": "code",
   "execution_count": 143,
   "id": "96074d73",
   "metadata": {},
   "outputs": [
    {
     "ename": "AttributeError",
     "evalue": "'Child' object has no attribute '_Parent__num'",
     "output_type": "error",
     "traceback": [
      "\u001b[1;31m---------------------------------------------------------------------------\u001b[0m",
      "\u001b[1;31mAttributeError\u001b[0m                            Traceback (most recent call last)",
      "Cell \u001b[1;32mIn[143], line 18\u001b[0m\n\u001b[0;32m     14\u001b[0m         \u001b[38;5;28;01mreturn\u001b[39;00m \u001b[38;5;28mself\u001b[39m\u001b[38;5;241m.\u001b[39m__val\n\u001b[0;32m     17\u001b[0m son \u001b[38;5;241m=\u001b[39m Child(\u001b[38;5;241m100\u001b[39m, \u001b[38;5;241m10\u001b[39m)\n\u001b[1;32m---> 18\u001b[0m \u001b[38;5;28mprint\u001b[39m(\u001b[38;5;124m\"\u001b[39m\u001b[38;5;124mParent Num:\u001b[39m\u001b[38;5;124m\"\u001b[39m, \u001b[43mson\u001b[49m\u001b[38;5;241;43m.\u001b[39;49m\u001b[43mget_num\u001b[49m\u001b[43m(\u001b[49m\u001b[43m)\u001b[49m)\n",
      "Cell \u001b[1;32mIn[143], line 6\u001b[0m, in \u001b[0;36mParent.get_num\u001b[1;34m(self)\u001b[0m\n\u001b[0;32m      5\u001b[0m \u001b[38;5;28;01mdef\u001b[39;00m \u001b[38;5;21mget_num\u001b[39m(\u001b[38;5;28mself\u001b[39m):\n\u001b[1;32m----> 6\u001b[0m     \u001b[38;5;28;01mreturn\u001b[39;00m \u001b[38;5;28;43mself\u001b[39;49m\u001b[38;5;241;43m.\u001b[39;49m\u001b[43m__num\u001b[49m\n",
      "\u001b[1;31mAttributeError\u001b[0m: 'Child' object has no attribute '_Parent__num'"
     ]
    }
   ],
   "source": [
    "class Parent:\n",
    "    def __init__(self, num):\n",
    "        self.__num = num\n",
    "\n",
    "    def get_num(self):\n",
    "        return self.__num\n",
    "\n",
    "\n",
    "class Child(Parent):\n",
    "    def __init__(self, val, num):\n",
    "        self.__val = val\n",
    "\n",
    "    def get_val(self):\n",
    "        return self.__val\n",
    "\n",
    "\n",
    "son = Child(100, 10)   #--> parent ka construtor invoke hus hi nhi ...so get_num cant return\n",
    "print(\"Parent Num:\", son.get_num())"
   ]
  },
  {
   "cell_type": "code",
   "execution_count": 145,
   "id": "4e518e2d",
   "metadata": {},
   "outputs": [
    {
     "name": "stdout",
     "output_type": "stream",
     "text": [
      "class A : 100\n"
     ]
    }
   ],
   "source": [
    "class A:\n",
    "    def __init__(self):\n",
    "        self.var1 = 100\n",
    "\n",
    "    def display1(self, var1):\n",
    "        print(\"class A :\", self.var1)\n",
    "\n",
    "\n",
    "class B(A):\n",
    "    \n",
    "    def display2(self, var1):\n",
    "        print(\"class B :\", self.var1)\n",
    "\n",
    "\n",
    "obj = B()   # since B has no constructer , class B constructor will run, we using self.var1 =100 not only var1 \n",
    "obj.display1(200)   "
   ]
  },
  {
   "cell_type": "code",
   "execution_count": 146,
   "id": "8c56f7f2",
   "metadata": {},
   "outputs": [
    {
     "name": "stdout",
     "output_type": "stream",
     "text": [
      "Inside phone constructor\n",
      "Buying a smartphone\n",
      "Buying a phone\n"
     ]
    }
   ],
   "source": [
    "class Phone:\n",
    "    def __init__(self, price, brand, camera):\n",
    "        print(\"Inside phone constructor\")\n",
    "        self.__price = price\n",
    "        self.brand = brand\n",
    "        self.camera = camera\n",
    "\n",
    "    def buy(self):\n",
    "        print(\"Buying a phone\")\n",
    "\n",
    "\n",
    "class SmartPhone(Phone):\n",
    "    def buy(self):\n",
    "        print(\"Buying a smartphone\")\n",
    "        super().buy()\n",
    "\n",
    "\n",
    "s = SmartPhone(20000, \"Apple\", 13)\n",
    "s.buy()\n"
   ]
  },
  {
   "cell_type": "markdown",
   "id": "b555161e",
   "metadata": {},
   "source": [
    "#### * Super() will always invoke parents method\n",
    "\n",
    "* super keyword class ke bahar nhi kaam krta hai"
   ]
  },
  {
   "cell_type": "code",
   "execution_count": 148,
   "id": "a52e6fd7",
   "metadata": {},
   "outputs": [
    {
     "name": "stdout",
     "output_type": "stream",
     "text": [
      "phle yha\n",
      "Inside phone constructor\n",
      "Inside smartphone constructor\n",
      "Android\n",
      "Samsung\n"
     ]
    }
   ],
   "source": [
    "class Phone:\n",
    "    def __init__(self, price, brand, camera):\n",
    "        print(\"Inside phone constructor\")\n",
    "        self.__price = price\n",
    "        self.brand = brand\n",
    "        self.camera = camera\n",
    "\n",
    "\n",
    "class SmartPhone(Phone):\n",
    "    def __init__(self, price, brand, camera, os, ram):\n",
    "        print(\"phle yha\")                               #1 \n",
    "        super().__init__(price, brand, camera)          #1 - it will invoke parent constructor \n",
    "        self.os = os\n",
    "        self.ram = ram\n",
    "        print(\"Inside smartphone constructor\")\n",
    "\n",
    "\n",
    "s = SmartPhone(20000, \"Samsung\", 12, \"Android\", 2)\n",
    "\n",
    "print(s.os)\n",
    "print(s.brand)"
   ]
  },
  {
   "cell_type": "code",
   "execution_count": 149,
   "id": "b6c1e9fe",
   "metadata": {},
   "outputs": [],
   "source": [
    "#examples"
   ]
  },
  {
   "cell_type": "code",
   "execution_count": 150,
   "id": "1cdac0d5",
   "metadata": {},
   "outputs": [
    {
     "name": "stdout",
     "output_type": "stream",
     "text": [
      "100\n",
      "200\n"
     ]
    }
   ],
   "source": [
    "class Parent:\n",
    "    def __init__(self, num):\n",
    "        self.__num = num\n",
    "\n",
    "    def get_num(self):\n",
    "        return self.__num\n",
    "\n",
    "\n",
    "class Child(Parent):\n",
    "    def __init__(self, num, val):\n",
    "        super().__init__(num)\n",
    "        self.__val = val\n",
    "\n",
    "    def get_val(self):\n",
    "        return self.__val\n",
    "\n",
    "\n",
    "son = Child(100, 200)\n",
    "print(son.get_num())\n",
    "print(son.get_val())\n"
   ]
  },
  {
   "cell_type": "markdown",
   "id": "872ce930",
   "metadata": {},
   "source": [
    "### Types of inheritance\n",
    "\n",
    "* 1. Single level Inheritance \n",
    "* 2. Multi level Inheritance\n",
    "* 3. Heirarchial Inheritance\n",
    "* 4. Multiple Inheritance"
   ]
  },
  {
   "cell_type": "markdown",
   "id": "cb71c72c",
   "metadata": {},
   "source": [
    "![Inheritance Types](inheritance.png)"
   ]
  },
  {
   "cell_type": "code",
   "execution_count": 158,
   "id": "17c087b9",
   "metadata": {},
   "outputs": [
    {
     "name": "stdout",
     "output_type": "stream",
     "text": [
      "Inside phone constructor\n",
      "Buying a phone\n"
     ]
    }
   ],
   "source": [
    "#example of Multriple inheritence\n",
    "\n",
    "class Phone:\n",
    "    def __init__(self, price, brand, camera):\n",
    "        print(\"Inside phone constructor\")\n",
    "        self.__price = price\n",
    "        self.brand = brand\n",
    "        self.camera = camera\n",
    "\n",
    "    def buy(self):\n",
    "        print(\"Buying a phone\")\n",
    "\n",
    "\n",
    "class Product:\n",
    "    def buy(self):\n",
    "        print(\"Product buy method\")\n",
    "\n",
    "\n",
    "class SmartPhone(Phone, Product):\n",
    "    pass\n",
    "\n",
    "\n",
    "s = SmartPhone(20000, \"Apple\", 12)\n",
    "s.buy()\n",
    "\n",
    "\n",
    "#(Method Resolution Order)\n",
    "# MRO -- In Python's multiple inheritance, the first parent class listed is searched first.\n"
   ]
  },
  {
   "cell_type": "markdown",
   "id": "3d747d9a",
   "metadata": {},
   "source": [
    "#### Polymorphism - \n",
    "##### In Python, polymorphism allows the same interface (e.g., method name) to be used for different types of objects or different classes.\n",
    "\n",
    "1. Method overriding - When child and parent class have same Method name and Object overide the parent class method and selects Child class method \n",
    "\n",
    "\n",
    "2. Method Overloading - Method Overloading is a concept where multiple methods in the same class have the same name but different parameters (number or type).\n",
    "* 👉 Common in languages like Java, C++, but Python doesn’t support true method overloading like those languages.\n",
    "\n",
    "3. Operator Overloading - Operator Overloading allows us to change the behavior of built-in operators (like +, -, *, etc.) when they're used with user-defined objects.\n",
    "\n",
    "* In Python, this is done using special methods (also called magic methods) like:\n",
    "\n",
    "Operator \tSpecial Method\n",
    "+\t        __add__()\n",
    "-\t        __sub__()\n",
    "*\t        __mul__()\n",
    "==\t        __eq__()\n",
    "<\t        __lt__()\n",
    ">\t        __gt__()"
   ]
  },
  {
   "cell_type": "code",
   "execution_count": 168,
   "id": "dc7b079b",
   "metadata": {},
   "outputs": [
    {
     "ename": "TypeError",
     "evalue": "Geometry.area() missing 1 required positional argument: 'b'",
     "output_type": "error",
     "traceback": [
      "\u001b[1;31m---------------------------------------------------------------------------\u001b[0m",
      "\u001b[1;31mTypeError\u001b[0m                                 Traceback (most recent call last)",
      "Cell \u001b[1;32mIn[168], line 11\u001b[0m\n\u001b[0;32m      8\u001b[0m         \u001b[38;5;28mprint\u001b[39m(\u001b[38;5;124m\"\u001b[39m\u001b[38;5;124mRectangle: \u001b[39m\u001b[38;5;124m\"\u001b[39m, a \u001b[38;5;241m*\u001b[39m b)\n\u001b[0;32m     10\u001b[0m obj \u001b[38;5;241m=\u001b[39m Geometry()\n\u001b[1;32m---> 11\u001b[0m \u001b[43mobj\u001b[49m\u001b[38;5;241;43m.\u001b[39;49m\u001b[43marea\u001b[49m\u001b[43m(\u001b[49m\u001b[38;5;241;43m4\u001b[39;49m\u001b[43m)\u001b[49m\n\u001b[0;32m     12\u001b[0m obj\u001b[38;5;241m.\u001b[39marea(\u001b[38;5;241m4\u001b[39m, \u001b[38;5;241m5\u001b[39m)\n",
      "\u001b[1;31mTypeError\u001b[0m: Geometry.area() missing 1 required positional argument: 'b'"
     ]
    }
   ],
   "source": [
    "# Method overloading :\n",
    "\n",
    "class Geometry:\n",
    "    \n",
    "    def area(self,a,b=None):\n",
    "        print(\"Circle: \", 3.14 * a * a)\n",
    "    def area(self,a,b):\n",
    "        print(\"Rectangle: \", a * b)\n",
    "        \n",
    "obj = Geometry()\n",
    "obj.area(4)\n",
    "obj.area(4, 5)\n"
   ]
  },
  {
   "cell_type": "code",
   "execution_count": 165,
   "id": "b8d7be2e",
   "metadata": {},
   "outputs": [
    {
     "name": "stdout",
     "output_type": "stream",
     "text": [
      "Circle: 50.24\n",
      "Rectangle: 20\n"
     ]
    }
   ],
   "source": [
    "class Geometry:\n",
    "    def area(self, a, b=None):\n",
    "        if b is None:\n",
    "            print(\"Circle:\", 3.14 * a * a)\n",
    "        else:\n",
    "            print(\"Rectangle:\", a * b)\n",
    "\n",
    "obj = Geometry()\n",
    "obj.area(4)      # Circle\n",
    "obj.area(4, 5)   # Rectangle\n"
   ]
  },
  {
   "cell_type": "code",
   "execution_count": null,
   "id": "a118a629",
   "metadata": {},
   "outputs": [],
   "source": []
  }
 ],
 "metadata": {
  "kernelspec": {
   "display_name": "Python 3 (ipykernel)",
   "language": "python",
   "name": "python3"
  },
  "language_info": {
   "codemirror_mode": {
    "name": "ipython",
    "version": 3
   },
   "file_extension": ".py",
   "mimetype": "text/x-python",
   "name": "python",
   "nbconvert_exporter": "python",
   "pygments_lexer": "ipython3",
   "version": "3.10.9"
  }
 },
 "nbformat": 4,
 "nbformat_minor": 5
}
