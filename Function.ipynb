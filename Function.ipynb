{
 "cells": [
  {
   "cell_type": "markdown",
   "id": "bce5f13d",
   "metadata": {},
   "source": [
    "### Function - Recursion"
   ]
  },
  {
   "cell_type": "code",
   "execution_count": null,
   "id": "20286510",
   "metadata": {},
   "outputs": [],
   "source": [
    "# Factorial\n",
    "\n",
    "5*4*3*2*1"
   ]
  },
  {
   "cell_type": "code",
   "execution_count": 1,
   "id": "070af173",
   "metadata": {},
   "outputs": [
    {
     "data": {
      "text/plain": [
       "120"
      ]
     },
     "execution_count": 1,
     "metadata": {},
     "output_type": "execute_result"
    }
   ],
   "source": [
    "def factorial(num):\n",
    "    if num == 1 or num ==0:\n",
    "        return 1\n",
    "    else:\n",
    "         return num*factorial(num-1)\n",
    "        \n",
    "factorial(5)"
   ]
  },
  {
   "cell_type": "code",
   "execution_count": 2,
   "id": "7bc6d66f",
   "metadata": {},
   "outputs": [
    {
     "data": {
      "text/plain": [
       "1"
      ]
     },
     "execution_count": 2,
     "metadata": {},
     "output_type": "execute_result"
    }
   ],
   "source": [
    "factorial(1)"
   ]
  },
  {
   "cell_type": "code",
   "execution_count": 3,
   "id": "d351944b",
   "metadata": {},
   "outputs": [
    {
     "data": {
      "text/plain": [
       "1"
      ]
     },
     "execution_count": 3,
     "metadata": {},
     "output_type": "execute_result"
    }
   ],
   "source": [
    "factorial(0)"
   ]
  },
  {
   "cell_type": "code",
   "execution_count": 4,
   "id": "235cb75c",
   "metadata": {},
   "outputs": [
    {
     "data": {
      "text/plain": [
       "720"
      ]
     },
     "execution_count": 4,
     "metadata": {},
     "output_type": "execute_result"
    }
   ],
   "source": [
    "factorial(6)"
   ]
  },
  {
   "cell_type": "code",
   "execution_count": null,
   "id": "8b4fc4ed",
   "metadata": {},
   "outputs": [],
   "source": [
    "# palindrome"
   ]
  },
  {
   "cell_type": "code",
   "execution_count": 19,
   "id": "75523ca6",
   "metadata": {},
   "outputs": [
    {
     "data": {
      "text/plain": [
       "'is palindrome'"
      ]
     },
     "execution_count": 19,
     "metadata": {},
     "output_type": "execute_result"
    }
   ],
   "source": [
    "def palin(text):\n",
    "    if len(text)<=1:\n",
    "        return \"is palindrome\"\n",
    "    else:\n",
    "        if text[0]==text[-1]:\n",
    "            return palin(text[1:-1:])\n",
    "        else:\n",
    "            return \"Not palindrome\"\n",
    "        \n",
    "palin(\"madam\")"
   ]
  },
  {
   "cell_type": "code",
   "execution_count": 20,
   "id": "35492e2e",
   "metadata": {},
   "outputs": [
    {
     "data": {
      "text/plain": [
       "'is palindrome'"
      ]
     },
     "execution_count": 20,
     "metadata": {},
     "output_type": "execute_result"
    }
   ],
   "source": [
    "palin('abba')"
   ]
  },
  {
   "cell_type": "code",
   "execution_count": null,
   "id": "a6c581fa",
   "metadata": {},
   "outputs": [],
   "source": [
    "# fabonacci"
   ]
  },
  {
   "cell_type": "code",
   "execution_count": 21,
   "id": "ee973573",
   "metadata": {},
   "outputs": [
    {
     "data": {
      "text/plain": [
       "21"
      ]
     },
     "execution_count": 21,
     "metadata": {},
     "output_type": "execute_result"
    }
   ],
   "source": [
    "def fab(num):\n",
    "    if num == 0 or num == 1:\n",
    "        return 1\n",
    "    else:\n",
    "        return fab(num-1)+fab(num-2)\n",
    "    \n",
    "fab(7)"
   ]
  },
  {
   "cell_type": "markdown",
   "id": "9021075c",
   "metadata": {},
   "source": [
    "### Lambda Function"
   ]
  },
  {
   "cell_type": "code",
   "execution_count": null,
   "id": "22012f77",
   "metadata": {},
   "outputs": [],
   "source": [
    "# 1. lambda has no return value\n",
    "# 2. One line.\n",
    "# 3. Not used for code reusability\n",
    "# 4. No name "
   ]
  },
  {
   "cell_type": "code",
   "execution_count": 22,
   "id": "cf0bcd3c",
   "metadata": {},
   "outputs": [
    {
     "data": {
      "text/plain": [
       "81"
      ]
     },
     "execution_count": 22,
     "metadata": {},
     "output_type": "execute_result"
    }
   ],
   "source": [
    "a= lambda x:x**2\n",
    "a(9)"
   ]
  },
  {
   "cell_type": "code",
   "execution_count": 23,
   "id": "bdaa5e80",
   "metadata": {},
   "outputs": [
    {
     "data": {
      "text/plain": [
       "function"
      ]
     },
     "execution_count": 23,
     "metadata": {},
     "output_type": "execute_result"
    }
   ],
   "source": [
    "type(a)"
   ]
  },
  {
   "cell_type": "code",
   "execution_count": null,
   "id": "f98ee1bd",
   "metadata": {},
   "outputs": [],
   "source": [
    "# why ???\n",
    "# -> Along with Higher order functions (function which need another function as input or return another functiona as output)"
   ]
  },
  {
   "cell_type": "code",
   "execution_count": 24,
   "id": "5ee6351a",
   "metadata": {},
   "outputs": [
    {
     "data": {
      "text/plain": [
       "True"
      ]
     },
     "execution_count": 24,
     "metadata": {},
     "output_type": "execute_result"
    }
   ],
   "source": [
    "b = lambda x: x[0]==\"a\"\n",
    "b('apple')"
   ]
  },
  {
   "cell_type": "code",
   "execution_count": 25,
   "id": "575d1e50",
   "metadata": {},
   "outputs": [
    {
     "data": {
      "text/plain": [
       "False"
      ]
     },
     "execution_count": 25,
     "metadata": {},
     "output_type": "execute_result"
    }
   ],
   "source": [
    "b(\"stre\")"
   ]
  },
  {
   "cell_type": "code",
   "execution_count": 26,
   "id": "e998463a",
   "metadata": {},
   "outputs": [
    {
     "data": {
      "text/plain": [
       "'odd'"
      ]
     },
     "execution_count": 26,
     "metadata": {},
     "output_type": "execute_result"
    }
   ],
   "source": [
    "b = lambda x: \"Even\" if x%2==0 else \"odd\"\n",
    "b(5)"
   ]
  },
  {
   "cell_type": "markdown",
   "id": "310697c3",
   "metadata": {},
   "source": [
    "#### Higher Order Function"
   ]
  },
  {
   "cell_type": "code",
   "execution_count": 29,
   "id": "a0f94269",
   "metadata": {},
   "outputs": [
    {
     "data": {
      "text/plain": [
       "(160, 24)"
      ]
     },
     "execution_count": 29,
     "metadata": {},
     "output_type": "execute_result"
    }
   ],
   "source": [
    "l = [3,6,21,54,28,72]\n",
    "\n",
    "def func(L):\n",
    "    \n",
    "    even_sum = 0\n",
    "    odd_sum = 0\n",
    "    div3_sum = 0\n",
    "    \n",
    "    for i in l:\n",
    "        if i % 2 ==0:\n",
    "            even_sum =even_sum+i\n",
    "        if i %2 != 0:\n",
    "            odd_sum = odd_sum +i\n",
    "    return (even_sum,odd_sum)\n",
    "\n",
    "func(l)"
   ]
  },
  {
   "cell_type": "code",
   "execution_count": 31,
   "id": "7ede36e1",
   "metadata": {},
   "outputs": [
    {
     "name": "stdout",
     "output_type": "stream",
     "text": [
      "160\n",
      "24\n",
      "156\n"
     ]
    }
   ],
   "source": [
    "# Now -- HOF\n",
    "\n",
    "def return_sum(func,L):\n",
    "    \n",
    "    result = 0\n",
    "    \n",
    "    for i in L:   \n",
    "        if func(i):\n",
    "            result=result +i        \n",
    "    return result\n",
    "    \n",
    "x =  lambda x:x%2==0\n",
    "y =  lambda x:x%2!=0\n",
    "z =  lambda x:x%3==0\n",
    "\n",
    "L = [3,6,21,54,28,72]\n",
    "print(return_sum(x,L))\n",
    "print(return_sum(y,L))\n",
    "print(return_sum(z,L))"
   ]
  },
  {
   "cell_type": "code",
   "execution_count": 32,
   "id": "d8d91691",
   "metadata": {},
   "outputs": [],
   "source": [
    "# Map\n",
    "# Filter\n",
    "# Reduce"
   ]
  },
  {
   "cell_type": "code",
   "execution_count": null,
   "id": "f13556e0",
   "metadata": {},
   "outputs": [],
   "source": [
    "l=[2,45,24,34,56]"
   ]
  },
  {
   "cell_type": "code",
   "execution_count": null,
   "id": "2efec543",
   "metadata": {},
   "outputs": [],
   "source": []
  },
  {
   "cell_type": "code",
   "execution_count": null,
   "id": "b253c2b2",
   "metadata": {},
   "outputs": [],
   "source": []
  }
 ],
 "metadata": {
  "kernelspec": {
   "display_name": "Python 3 (ipykernel)",
   "language": "python",
   "name": "python3"
  },
  "language_info": {
   "codemirror_mode": {
    "name": "ipython",
    "version": 3
   },
   "file_extension": ".py",
   "mimetype": "text/x-python",
   "name": "python",
   "nbconvert_exporter": "python",
   "pygments_lexer": "ipython3",
   "version": "3.10.9"
  }
 },
 "nbformat": 4,
 "nbformat_minor": 5
}
